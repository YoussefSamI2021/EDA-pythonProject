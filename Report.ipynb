{
 "cells": [
  {
   "cell_type": "markdown",
   "metadata": {},
   "source": [
    "Report on Global Terrorism Dataset Analysis\n",
    "Introduction:\n",
    "\n",
    "The analysis aims to delve into the Global Terrorism Database (GTD) to uncover trends, patterns, and insights regarding terrorist activities worldwide. By leveraging various data analysis techniques and visualization tools, this report sheds light on significant findings within the dataset.\n",
    "Data Exploration:\n",
    "\n",
    "The dataset was loaded into a Pandas DataFrame and explored to understand its structure and features. Columns were appropriately renamed for better clarity, and irrelevant columns were dropped to focus on essential aspects of the data.\n",
    "Data Cleaning:\n",
    "\n",
    "Missing values were handled, and the dataset was cleaned to ensure data integrity. The cleaned dataset was then used for further analysis.\n",
    "Data Analysis:\n",
    "\n",
    "    Basic statistical analysis was conducted to calculate mean, median, and standard deviation of numeric columns. The most frequent values in categorical columns were identified.\n",
    "    Grouping the data by various categories such as year, region, country, and attack type, aggregate statistics were calculated to identify trends over time and determine the most affected regions, countries, common attack types, and targets.\n",
    "\n",
    "Data Visualization:\n",
    "\n",
    "    Visualizations were created using Matplotlib and Seaborn to depict trends and relationships within the data.\n",
    "        A line plot showed the trend of yearly terrorist attacks.\n",
    "        output1.png\n",
    "        A bar plot illustrated the number of attacks by region.\n",
    "        output.png\n",
    "        A heatmap visualized the correlation between different features.\n",
    "        output2.png\n",
    "        A scatter plot demonstrated the relationship between the type of attack and the number of casualties.\n",
    "        ![alt text](output3.png)\n",
    "Performance Comparison:\n",
    "\n",
    "    Performance comparison between Pandas and Dask was conducted to analyze efficiency with large datasets.\n",
    "\n",
    "Key Findings:\n",
    "\n",
    "    The country with the most attacks: [Country Name]\n",
    "    The city with the most attacks: [City Name]\n",
    "    The region with the most attacks: [Region Name]\n",
    "    The year with the most attacks: [Year]\n",
    "    The most common attack type: [Attack Type]\n",
    "    The group with the most attacks: [Terrorist Group Name]\n",
    "\n",
    "Conclusion:\n",
    "\n",
    "The analysis of the Global Terrorism Database provides valuable insights into the patterns and trends of terrorist activities worldwide. These insights can aid policymakers, security agencies, and researchers in understanding and combating the threat of terrorism effectively.\n",
    "End of Report"
   ]
  },
  {
   "cell_type": "markdown",
   "metadata": {},
   "source": [
    "Data Visualization:\n",
    "\n",
    "    Visualizations were created using Matplotlib and Seaborn to depict trends and relationships within the data.\n",
    "        A line plot showed the trend of yearly terrorist attacks.\n"
   ]
  },
  {
   "cell_type": "markdown",
   "metadata": {},
   "source": [
    "![alt text](output1.png)"
   ]
  },
  {
   "cell_type": "markdown",
   "metadata": {},
   "source": [
    "        A bar plot illustrated the number of attacks by region."
   ]
  },
  {
   "cell_type": "markdown",
   "metadata": {},
   "source": [
    "![alt text](output.png)"
   ]
  },
  {
   "cell_type": "markdown",
   "metadata": {},
   "source": [
    "        A heatmap visualized the correlation between different features."
   ]
  },
  {
   "cell_type": "markdown",
   "metadata": {},
   "source": [
    "![alt text](output2.png)"
   ]
  },
  {
   "cell_type": "markdown",
   "metadata": {},
   "source": [
    "        A scatter plot demonstrated the relationship between the type of attack and the number of casualties."
   ]
  },
  {
   "cell_type": "markdown",
   "metadata": {},
   "source": [
    "![alt text](output3.png)"
   ]
  }
 ],
 "metadata": {
  "language_info": {
   "name": "python"
  }
 },
 "nbformat": 4,
 "nbformat_minor": 2
}
